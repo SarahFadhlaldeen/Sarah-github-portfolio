{
 "cells": [
  {
   "cell_type": "code",
   "execution_count": 1,
   "id": "a577a672",
   "metadata": {},
   "outputs": [],
   "source": [
    "import numpy as np "
   ]
  },
  {
   "cell_type": "code",
   "execution_count": 2,
   "id": "2c4c5dd5",
   "metadata": {},
   "outputs": [
    {
     "name": "stdout",
     "output_type": "stream",
     "text": [
      "[[ 1  2]\n",
      " [ 3  4]\n",
      " [ 1  1]\n",
      " [ 1 -1]]\n",
      "[[1]\n",
      " [2]\n",
      " [3]\n",
      " [4]]\n"
     ]
    }
   ],
   "source": [
    "A = np.array([[1, 2], [3, 4], [1, 1],[1, -1]])\n",
    "\n",
    "print(A)\n",
    "\n",
    "b= np.array([[1],[2], [3], [4]])\n",
    "\n",
    "print(b)"
   ]
  },
  {
   "cell_type": "code",
   "execution_count": null,
   "id": "71419ab2",
   "metadata": {},
   "outputs": [],
   "source": []
  },
  {
   "cell_type": "code",
   "execution_count": 3,
   "id": "7e5e1d9b",
   "metadata": {},
   "outputs": [],
   "source": [
    "U, Sigma, VT = np.linalg.svd(A)"
   ]
  },
  {
   "cell_type": "code",
   "execution_count": 11,
   "id": "9ce80e35",
   "metadata": {},
   "outputs": [],
   "source": [
    "S = np.zeros((U.shape[0], VT.shape[0]))\n",
    "np.fill_diagonal(S, Sigma)"
   ]
  },
  {
   "cell_type": "code",
   "execution_count": 12,
   "id": "e704f311",
   "metadata": {},
   "outputs": [
    {
     "name": "stdout",
     "output_type": "stream",
     "text": [
      "[[1.]\n",
      " [2.]\n",
      " [3.]\n",
      " [4.]]\n"
     ]
    }
   ],
   "source": [
    "b_hat = U @U.T @ b\n",
    "\n",
    "print(b_hat)"
   ]
  },
  {
   "cell_type": "code",
   "execution_count": 13,
   "id": "10836939",
   "metadata": {},
   "outputs": [
    {
     "name": "stdout",
     "output_type": "stream",
     "text": [
      "[[ 6.66133815e-16]\n",
      " [-4.44089210e-16]\n",
      " [ 0.00000000e+00]\n",
      " [ 0.00000000e+00]]\n"
     ]
    }
   ],
   "source": [
    "z=b-b_hat\n",
    "\n",
    "print(z)"
   ]
  },
  {
   "cell_type": "code",
   "execution_count": 14,
   "id": "89dbb389",
   "metadata": {},
   "outputs": [
    {
     "name": "stdout",
     "output_type": "stream",
     "text": [
      "True\n"
     ]
    }
   ],
   "source": [
    "check_col_space = np.allclose(b_hat, U @U.T @ b)\n",
    "\n",
    "print(check_col_space)"
   ]
  },
  {
   "cell_type": "code",
   "execution_count": 24,
   "id": "ca02cf17",
   "metadata": {},
   "outputs": [
    {
     "name": "stdout",
     "output_type": "stream",
     "text": [
      "[5.64500387 1.46079816]\n"
     ]
    }
   ],
   "source": [
    "from scipy.linalg import svd\n",
    "\n",
    "U, S, Vt = svd(A, full_matrices=False)\n",
    "\n",
    "#print(U)\n",
    "#print(Vt)\n",
    "#print(S)"
   ]
  },
  {
   "cell_type": "code",
   "execution_count": 25,
   "id": "e1cf2aa8",
   "metadata": {},
   "outputs": [
    {
     "name": "stdout",
     "output_type": "stream",
     "text": [
      "Projected vector (b_hat): [[0.08823529]\n",
      " [2.85294118]\n",
      " [1.38235294]\n",
      " [3.97058824]]\n",
      "Component in null space (z): [[ 0.91176471]\n",
      " [-0.85294118]\n",
      " [ 1.61764706]\n",
      " [ 0.02941176]]\n",
      "Is b_hat in the column space of A? True\n"
     ]
    }
   ],
   "source": [
    "\n",
    "# Step 2: Calculate the pseudoinverse of the diagonal matrix Sigma\n",
    "S_inv = np.diag(1/S)\n",
    "\n",
    "# Step 3: Compute the projection of b onto the column space of A (b_hat)\n",
    "# Projection is U_r U_r^T b where U_r are the first r columns of U\n",
    "b_hat = U @ U.T @ b\n",
    "\n",
    "# Step 4: Calculate the component in the null space of A^T (z)\n",
    "z = b - b_hat\n",
    "\n",
    "# Step 5: Verify if b_hat is in the column space by checking if z is small\n",
    "print(\"Projected vector (b_hat):\", b_hat)\n",
    "print(\"Component in null space (z):\", z)\n",
    "print(\"Is b_hat in the column space of A?\", np.allclose(b_hat, b - z))"
   ]
  },
  {
   "cell_type": "code",
   "execution_count": 18,
   "id": "50cec1ea",
   "metadata": {},
   "outputs": [
    {
     "name": "stdout",
     "output_type": "stream",
     "text": [
      "[[5.64500387 0.        ]\n",
      " [0.         1.46079816]\n",
      " [0.         0.        ]\n",
      " [0.         0.        ]]\n"
     ]
    }
   ],
   "source": [
    "print(S)"
   ]
  },
  {
   "cell_type": "code",
   "execution_count": 19,
   "id": "0ec8eed2",
   "metadata": {},
   "outputs": [
    {
     "ename": "NameError",
     "evalue": "name 'V' is not defined",
     "output_type": "error",
     "traceback": [
      "\u001b[1;31m---------------------------------------------------------------------------\u001b[0m",
      "\u001b[1;31mNameError\u001b[0m                                 Traceback (most recent call last)",
      "\u001b[1;32m~\\AppData\\Local\\Temp\\ipykernel_27124\\880807043.py\u001b[0m in \u001b[0;36m<module>\u001b[1;34m\u001b[0m\n\u001b[1;32m----> 1\u001b[1;33m \u001b[0mprint\u001b[0m\u001b[1;33m(\u001b[0m\u001b[0mV\u001b[0m\u001b[1;33m)\u001b[0m\u001b[1;33m\u001b[0m\u001b[1;33m\u001b[0m\u001b[0m\n\u001b[0m",
      "\u001b[1;31mNameError\u001b[0m: name 'V' is not defined"
     ]
    }
   ],
   "source": [
    "print(V)"
   ]
  },
  {
   "cell_type": "code",
   "execution_count": 26,
   "id": "427952c5",
   "metadata": {},
   "outputs": [
    {
     "data": {
      "text/plain": [
       "(array([[0.08823529],\n",
       "        [2.85294118],\n",
       "        [1.38235294],\n",
       "        [3.97058824]]),\n",
       " array([[0.],\n",
       "        [0.],\n",
       "        [0.],\n",
       "        [0.]]))"
      ]
     },
     "execution_count": 26,
     "metadata": {},
     "output_type": "execute_result"
    }
   ],
   "source": [
    "\n",
    "# Compute the projection of b onto Col(A)\n",
    "# Col(A) is spanned by the first two columns of U\n",
    "U_col = U[:, :2]\n",
    "b_hat = U_col @ U_col.T @ b\n",
    "\n",
    "# Compute the projection of b onto null(A^T)\n",
    "# null(A^T) is spanned by the last two columns of U\n",
    "U_null = U[:, 2:]\n",
    "z = U_null @ U_null.T @ b\n",
    "\n",
    "# Display the projections b_hat and z\n",
    "b_hat, z"
   ]
  },
  {
   "cell_type": "code",
   "execution_count": null,
   "id": "61c7bac7",
   "metadata": {},
   "outputs": [],
   "source": []
  }
 ],
 "metadata": {
  "kernelspec": {
   "display_name": "Python 3 (ipykernel)",
   "language": "python",
   "name": "python3"
  },
  "language_info": {
   "codemirror_mode": {
    "name": "ipython",
    "version": 3
   },
   "file_extension": ".py",
   "mimetype": "text/x-python",
   "name": "python",
   "nbconvert_exporter": "python",
   "pygments_lexer": "ipython3",
   "version": "3.9.13"
  }
 },
 "nbformat": 4,
 "nbformat_minor": 5
}
