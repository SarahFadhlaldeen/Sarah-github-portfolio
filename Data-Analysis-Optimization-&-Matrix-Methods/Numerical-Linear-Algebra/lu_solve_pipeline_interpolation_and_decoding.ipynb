{
 "cells": [
  {
   "cell_type": "code",
   "execution_count": 191,
   "id": "2216bcd9",
   "metadata": {},
   "outputs": [],
   "source": [
    "import sys, os\n",
    "import numpy as np\n",
    "from scipy.linalg import lu"
   ]
  },
  {
   "cell_type": "markdown",
   "id": "0da25bc3",
   "metadata": {},
   "source": [
    "### Verifying the LU decomposition for Q1 "
   ]
  },
  {
   "cell_type": "code",
   "execution_count": 204,
   "id": "6332cadf",
   "metadata": {},
   "outputs": [],
   "source": [
    "# I did not find built in function that does the LU without pivoting so I just used prof.Matteo's code from the LU notebook with some alterations\n",
    "def LU(A):\n",
    "    U = np.copy(A)\n",
    "    m, n = A.shape  # m = number of rows, n = number of columns\n",
    "    L = np.eye(m)  # L should be a square matrix of size m x m\n",
    "    for k in range(min(m, n)-1): \n",
    "        if np.all(U[k+1:, k] == 0): #skip columns with zero entries below the pivot \n",
    "            continue\n",
    "        for j in range(k+1, m):  \n",
    "            L[j, k] = U[j, k] / U[k, k]\n",
    "            U[j, k:n] -= L[j, k] * U[k, k:n]\n",
    "    return L, U\n",
    "\n"
   ]
  },
  {
   "cell_type": "code",
   "execution_count": 205,
   "id": "2e23f8a1",
   "metadata": {},
   "outputs": [
    {
     "name": "stdout",
     "output_type": "stream",
     "text": [
      "[[ 2.  6. -2.  0.  2.]\n",
      " [ 3.  9. -3.  3.  1.]\n",
      " [-1. -3.  1. -3.  1.]]\n"
     ]
    }
   ],
   "source": [
    "A_a = np.array([[2,6,-2,0,2],[3,9,-3,3,1],[-1,-3,1,-3,1]]).astype(float)\n",
    "\n",
    "print(A_a)"
   ]
  },
  {
   "cell_type": "code",
   "execution_count": 206,
   "id": "1376bbfc",
   "metadata": {},
   "outputs": [
    {
     "name": "stdout",
     "output_type": "stream",
     "text": [
      "L= [[ 1.   0.   0. ]\n",
      " [ 1.5  1.   0. ]\n",
      " [-0.5  0.   1. ]]\n",
      "U= [[ 2.  6. -2.  0.  2.]\n",
      " [ 0.  0.  0.  3. -2.]\n",
      " [ 0.  0.  0. -3.  2.]]\n"
     ]
    }
   ],
   "source": [
    "L_a, U_a = LU(A_a)\n",
    "\n",
    "print('L=',L_a)\n",
    "print('U=', U_a)"
   ]
  },
  {
   "cell_type": "code",
   "execution_count": 207,
   "id": "a7fd3a6d",
   "metadata": {},
   "outputs": [
    {
     "name": "stdout",
     "output_type": "stream",
     "text": [
      "[[ 2.  4.  2.]\n",
      " [ 1. -1.  3.]\n",
      " [-1.  7. -7.]]\n"
     ]
    }
   ],
   "source": [
    "A_b = np.array([[2,4,2],[1,-1,3],[-1,7,-7]]).astype(float)\n",
    "\n",
    "print(A_b)"
   ]
  },
  {
   "cell_type": "code",
   "execution_count": 208,
   "id": "3ad2d938",
   "metadata": {},
   "outputs": [
    {
     "name": "stdout",
     "output_type": "stream",
     "text": [
      "L= [[ 1.   0.   0. ]\n",
      " [ 0.5  1.   0. ]\n",
      " [-0.5 -3.   1. ]]\n",
      "U= [[ 2.  4.  2.]\n",
      " [ 0. -3.  2.]\n",
      " [ 0.  0.  0.]]\n"
     ]
    }
   ],
   "source": [
    "L_b, U_b = LU(A_b)\n",
    "\n",
    "print('L=',L_b)\n",
    "print('U=', U_b)"
   ]
  },
  {
   "cell_type": "code",
   "execution_count": 209,
   "id": "4bfced7e",
   "metadata": {},
   "outputs": [
    {
     "name": "stdout",
     "output_type": "stream",
     "text": [
      "[[ 2.  2. -2.  4.  2.]\n",
      " [ 1. -1.  0.  2.  1.]\n",
      " [ 3.  1. -2.  6.  3.]\n",
      " [ 1.  3. -2.  2.  1.]]\n"
     ]
    }
   ],
   "source": [
    "A_c = np.array([[2,2,-2,4,2],[1,-1,0,2,1],[3,1,-2,6,3],[1,3,-2,2,1]]).astype(float)\n",
    "\n",
    "print(A_c)"
   ]
  },
  {
   "cell_type": "code",
   "execution_count": 210,
   "id": "202c1bfa",
   "metadata": {},
   "outputs": [
    {
     "name": "stdout",
     "output_type": "stream",
     "text": [
      "L= [[ 1.   0.   0.   0. ]\n",
      " [ 0.5  1.   0.   0. ]\n",
      " [ 1.5  1.   1.   0. ]\n",
      " [ 0.5 -1.   0.   1. ]]\n",
      "U= [[ 2.  2. -2.  4.  2.]\n",
      " [ 0. -2.  1.  0.  0.]\n",
      " [ 0.  0.  0.  0.  0.]\n",
      " [ 0.  0.  0.  0.  0.]]\n"
     ]
    }
   ],
   "source": [
    "L_c, U_c = LU(A_c)\n",
    "\n",
    "print('L=',L_c)\n",
    "print('U=', U_c)"
   ]
  },
  {
   "cell_type": "markdown",
   "id": "7885f867",
   "metadata": {},
   "source": [
    "### Verifying the LU decomposition for Q2 "
   ]
  },
  {
   "cell_type": "code",
   "execution_count": 28,
   "id": "a9caba26",
   "metadata": {},
   "outputs": [],
   "source": [
    "import numpy as np\n",
    "from scipy.linalg import lu"
   ]
  },
  {
   "cell_type": "code",
   "execution_count": 98,
   "id": "a4b60451",
   "metadata": {},
   "outputs": [
    {
     "name": "stdout",
     "output_type": "stream",
     "text": [
      "A= [[ 0.  0.  2.]\n",
      " [ 0. -1.  4.]\n",
      " [ 3.  5.  1.]]\n",
      "P= [[0. 0. 1.]\n",
      " [0. 1. 0.]\n",
      " [1. 0. 0.]]\n",
      "L= [[ 1.  0.  0.]\n",
      " [ 0.  1.  0.]\n",
      " [ 0. -0.  1.]]\n",
      "U= [[ 3.  5.  1.]\n",
      " [ 0. -1.  4.]\n",
      " [ 0.  0.  2.]]\n"
     ]
    }
   ],
   "source": [
    "A_2 = np.array([[0,0,2],[0,-1,4],[3,5,1]]).astype(float)\n",
    "\n",
    "\n",
    "P1, L1, U1 = lu(A_2)\n",
    "\n",
    "print('A=', A_2)\n",
    "print('P=', P1)\n",
    "print('L=', L1)\n",
    "print('U=', U1)"
   ]
  },
  {
   "cell_type": "code",
   "execution_count": 35,
   "id": "b137dc13",
   "metadata": {},
   "outputs": [
    {
     "name": "stdout",
     "output_type": "stream",
     "text": [
      "A= [[ 0. -1.  2.  1.  3.]\n",
      " [-1.  1.  3.  1.  4.]\n",
      " [ 1. -1. -3.  6.  2.]\n",
      " [ 2. -2. -4.  1.  0.]]\n",
      "P= [[0. 1. 0. 0.]\n",
      " [0. 0. 0. 1.]\n",
      " [0. 0. 1. 0.]\n",
      " [1. 0. 0. 0.]]\n",
      "L= [[ 1.   0.   0.   0. ]\n",
      " [ 0.   1.   0.   0. ]\n",
      " [ 0.5 -0.   1.   0. ]\n",
      " [-0.5 -0.  -1.   1. ]]\n",
      "U= [[ 2.  -2.  -4.   1.   0. ]\n",
      " [ 0.  -1.   2.   1.   3. ]\n",
      " [ 0.   0.  -1.   5.5  2. ]\n",
      " [ 0.   0.   0.   7.   6. ]]\n"
     ]
    }
   ],
   "source": [
    "B_2 = np.array([[0,-1,2,1,3],[-1,1,3,1,4],[1,-1,-3,6,2],[2,-2,-4,1,0]]).astype(float)\n",
    "\n",
    "\n",
    "P2, L2, U2 = lu(B_2)\n",
    "\n",
    "print('A=', B_2)\n",
    "print('P=', P2)\n",
    "print('L=', L2)\n",
    "print('U=', U2)"
   ]
  },
  {
   "cell_type": "code",
   "execution_count": 36,
   "id": "bc9b6826",
   "metadata": {},
   "outputs": [
    {
     "name": "stdout",
     "output_type": "stream",
     "text": [
      "A= [[ -1.  -2.   3.   0.]\n",
      " [  2.   4.  -6.   5.]\n",
      " [  1.   1.  -1.   3.]\n",
      " [  2.   5. -10.   1.]]\n",
      "P= [[0. 0. 0. 1.]\n",
      " [1. 0. 0. 0.]\n",
      " [0. 1. 0. 0.]\n",
      " [0. 0. 1. 0.]]\n",
      "L= [[ 1.   0.   0.   0. ]\n",
      " [ 0.5  1.   0.   0. ]\n",
      " [ 1.  -1.   1.   0. ]\n",
      " [-0.5 -0.  -0.   1. ]]\n",
      "U= [[ 2.   4.  -6.   5. ]\n",
      " [ 0.  -1.   2.   0.5]\n",
      " [ 0.   0.  -2.  -3.5]\n",
      " [ 0.   0.   0.   2.5]]\n"
     ]
    }
   ],
   "source": [
    "C_2 = np.array([[-1,-2,3,0],[2,4,-6,5],[1,1,-1,3],[2,5,-10,1]]).astype(float)\n",
    "\n",
    "\n",
    "P3, L3, U3 = lu(C_2)\n",
    "\n",
    "print('A=', C_2)\n",
    "print('P=', P3)\n",
    "print('L=', L3)\n",
    "print('U=', U3)"
   ]
  },
  {
   "cell_type": "markdown",
   "id": "923d6d0d",
   "metadata": {},
   "source": [
    "#### probalby I am having a different PLU here than my PLU found by hand calculations because LU decomposition is not unique, you can have different possible choices.\n",
    "\n",
    "\n"
   ]
  },
  {
   "cell_type": "markdown",
   "id": "76103be8",
   "metadata": {},
   "source": [
    "## Q4"
   ]
  },
  {
   "cell_type": "code",
   "execution_count": 90,
   "id": "799424f9",
   "metadata": {},
   "outputs": [],
   "source": [
    "def lufactors(A):\n",
    "    \"\"\"\n",
    "    Performs LU decomposition on a nxn or mxn matrix A.\n",
    "    The code checks each column and skips elimination for columns where all entries below the pivot are already zero\n",
    "    to avoid divison by zero if encountered any zero pivot.\n",
    "    \n",
    "    No pivoting\n",
    "    \n",
    "    Parameters:\n",
    "    A matrix of either shapes nxn or mxn\n",
    "    \n",
    "    Returns:\n",
    "    L: Lower triangular matrix\n",
    "    U: Upper triangular matrix \n",
    "    \n",
    "    \"\"\"\n",
    "    # dimensions of matrix A\n",
    "    m, n = A.shape\n",
    "    \n",
    "    # Initialize L as identity matrix of shape (m x m) and U as a copy of A\n",
    "    L = np.eye(m, dtype=float)\n",
    "    U = np.copy(A).astype(float) \n",
    "    \n",
    "    # Perform Gaussian elimination to transform U into an upper triangular matrix\n",
    "    for k in range(min(m, n) - 1):  # Iterate through columns\n",
    "        \n",
    "        if np.all(U[k + 1:, k] == 0):  # If all entries below the current column U[k, k] are zero, skip this column and move to the next\n",
    "            continue  \n",
    "\n",
    "        for j in range(k + 1, m):  # Iterate over rows below the pivot\n",
    "            if U[k, k] != 0:  # Check if the pivot is non-zer0\n",
    "                multiplier = U[j, k] / U[k, k] # Calculate the multiplier for elimination\n",
    "                L[j, k] = multiplier  # Store the multiplier in L\n",
    "                U[j, k:n] -= multiplier * U[k, k:n]  # Elimination \n",
    "\n",
    "    return L, U\n",
    "\n",
    "\n"
   ]
  },
  {
   "cell_type": "markdown",
   "id": "fcf8a19c",
   "metadata": {},
   "source": [
    "#### Testing the code on the matrices from Q1 since it is done by hand (for validation)"
   ]
  },
  {
   "cell_type": "code",
   "execution_count": 212,
   "id": "b831b328",
   "metadata": {},
   "outputs": [
    {
     "name": "stdout",
     "output_type": "stream",
     "text": [
      "L= [[ 1.   0.   0. ]\n",
      " [ 1.5  1.   0. ]\n",
      " [-0.5  0.   1. ]]\n",
      "U= [[ 2.  6. -2.  0.  2.]\n",
      " [ 0.  0.  0.  3. -2.]\n",
      " [ 0.  0.  0. -3.  2.]]\n"
     ]
    }
   ],
   "source": [
    "[L, U] = lufactors(A_a)\n",
    "\n",
    "print('L=',L)\n",
    "print('U=',U)"
   ]
  },
  {
   "cell_type": "code",
   "execution_count": 213,
   "id": "5f58bb8d",
   "metadata": {},
   "outputs": [
    {
     "data": {
      "text/plain": [
       "True"
      ]
     },
     "execution_count": 213,
     "metadata": {},
     "output_type": "execute_result"
    }
   ],
   "source": [
    "np.allclose(L, L_a)"
   ]
  },
  {
   "cell_type": "code",
   "execution_count": 214,
   "id": "f44e3530",
   "metadata": {},
   "outputs": [
    {
     "name": "stdout",
     "output_type": "stream",
     "text": [
      "L= [[ 1.   0.   0. ]\n",
      " [ 0.5  1.   0. ]\n",
      " [-0.5 -3.   1. ]]\n",
      "U= [[ 2.  4.  2.]\n",
      " [ 0. -3.  2.]\n",
      " [ 0.  0.  0.]]\n"
     ]
    }
   ],
   "source": [
    "[L, U] = lufactors(A_b)\n",
    "\n",
    "print('L=',L)\n",
    "print('U=',U)"
   ]
  },
  {
   "cell_type": "code",
   "execution_count": 215,
   "id": "33573d04",
   "metadata": {},
   "outputs": [
    {
     "data": {
      "text/plain": [
       "True"
      ]
     },
     "execution_count": 215,
     "metadata": {},
     "output_type": "execute_result"
    }
   ],
   "source": [
    "np.allclose(L, L_b)"
   ]
  },
  {
   "cell_type": "code",
   "execution_count": 216,
   "id": "58f8cf81",
   "metadata": {},
   "outputs": [
    {
     "name": "stdout",
     "output_type": "stream",
     "text": [
      "L= [[ 1.   0.   0.   0. ]\n",
      " [ 0.5  1.   0.   0. ]\n",
      " [ 1.5  1.   1.   0. ]\n",
      " [ 0.5 -1.   0.   1. ]]\n",
      "U= [[ 2.  2. -2.  4.  2.]\n",
      " [ 0. -2.  1.  0.  0.]\n",
      " [ 0.  0.  0.  0.  0.]\n",
      " [ 0.  0.  0.  0.  0.]]\n"
     ]
    }
   ],
   "source": [
    "[L, U] = lufactors(A_c)\n",
    "\n",
    "print('L=',L)\n",
    "print('U=',U)"
   ]
  },
  {
   "cell_type": "code",
   "execution_count": 217,
   "id": "9ed7dad1",
   "metadata": {},
   "outputs": [
    {
     "data": {
      "text/plain": [
       "True"
      ]
     },
     "execution_count": 217,
     "metadata": {},
     "output_type": "execute_result"
    }
   ],
   "source": [
    "np.allclose(L, L_c)"
   ]
  },
  {
   "cell_type": "markdown",
   "id": "6453444f",
   "metadata": {},
   "source": [
    "### Q5"
   ]
  },
  {
   "cell_type": "code",
   "execution_count": 101,
   "id": "5ee90c8e",
   "metadata": {},
   "outputs": [],
   "source": [
    "def forwardsubst(L, b):\n",
    "    \"\"\"\n",
    "    Solves the lower triangular system L * y = b using forward substitution.\n",
    "    \n",
    "    Parameters:\n",
    "    L: Lower triangular matrix of shape (m, m)\n",
    "    b: Right-hand side column vector of shape (m,)\n",
    "    \n",
    "    Returns:\n",
    "    y: Solution of the system (m,)\n",
    "    \n",
    "    \"\"\"\n",
    "    \n",
    "    m = L.shape[0]\n",
    "    \n",
    "    # Initialize vector y with zeros\n",
    "    y = np.zeros_like(b, dtype=float)\n",
    "    \n",
    "    # Perform forward substitution\n",
    "    for i in range(m):\n",
    "        sum_l_y = sum(L[i, j] * y[j] for j in range(i))  # Sum of L[i, j] * y[j] for j < i\n",
    "        y[i] = (b[i] - sum_l_y) / L[i, i]\n",
    "        \n",
    "    return y"
   ]
  },
  {
   "cell_type": "code",
   "execution_count": 106,
   "id": "242d188d",
   "metadata": {},
   "outputs": [
    {
     "name": "stdout",
     "output_type": "stream",
     "text": [
      "A_ex= [[ 1  1 -1]\n",
      " [ 1 -2  3]\n",
      " [ 2  3  1]]\n",
      "b_ex= [[ 4]\n",
      " [-6]\n",
      " [ 7]]\n"
     ]
    }
   ],
   "source": [
    "# Use the following system to verify question 5 and 6 also Q4 can be validated by this example too. \n",
    "#used the following example from https://www.youtube.com/watch?v=m3EojSAgIao (since it is solved, so that I know what I got is correct) \n",
    "A_ex = np.array([[1,1,-1],[1,-2,3],[2,3,1]])\n",
    "b_ex = np.array([[4],[-6],[7]])\n",
    "\n",
    "print('A_ex=', A_ex)\n",
    "print('b_ex=', b_ex)"
   ]
  },
  {
   "cell_type": "code",
   "execution_count": 129,
   "id": "9c7f7621",
   "metadata": {},
   "outputs": [
    {
     "name": "stdout",
     "output_type": "stream",
     "text": [
      "L= [[ 1.          0.          0.        ]\n",
      " [ 1.          1.          0.        ]\n",
      " [ 2.         -0.33333333  1.        ]]\n",
      "U= [[ 1.          1.         -1.        ]\n",
      " [ 0.         -3.          4.        ]\n",
      " [ 0.          0.          4.33333333]]\n",
      "A=LU= [[ 1.  1. -1.]\n",
      " [ 1. -2.  3.]\n",
      " [ 2.  3.  1.]]\n"
     ]
    }
   ],
   "source": [
    "#Use the LU code in Q4 to decompose A_ex\n",
    "[L_ex, U_ex] = lufactors(A_ex)\n",
    "\n",
    "print('L=',L_ex)\n",
    "print('U=',U_ex)\n",
    "\n",
    "print('A=LU=', L_ex@U_ex)"
   ]
  },
  {
   "cell_type": "code",
   "execution_count": 111,
   "id": "9c049067",
   "metadata": {},
   "outputs": [
    {
     "name": "stdout",
     "output_type": "stream",
     "text": [
      "y= [[  4.        ]\n",
      " [-10.        ]\n",
      " [ -4.33333333]]\n"
     ]
    }
   ],
   "source": [
    "#To find y \n",
    "y_ex= forwardsubst(L_ex,b_ex)\n",
    "\n",
    "print('y=',y_ex)"
   ]
  },
  {
   "cell_type": "markdown",
   "id": "99ea2245",
   "metadata": {},
   "source": [
    "### Q6\n"
   ]
  },
  {
   "cell_type": "code",
   "execution_count": 152,
   "id": "d2678a2c",
   "metadata": {},
   "outputs": [],
   "source": [
    "def backsubst(U, y):\n",
    "    \"\"\"\n",
    "    Solves the upper triangular system U * x = y using back substitution.\n",
    "    Supports non-square upper triangular matrices with more rows than columns (m >= n).\n",
    "    \n",
    "    Parameters:\n",
    "    U: Upper triangular matrix of shape (m, n) where m >= n\n",
    "    y: Right-hand side column vector of shape (m,)\n",
    "    \n",
    "    Returns:\n",
    "    x: Solution of the system (n,)\n",
    "    \"\"\"\n",
    "    \n",
    "    m, n = U.shape\n",
    "\n",
    "    # Initialize the solution vector x with zeros of shape (n,)\n",
    "    x = np.zeros(n, dtype=float)\n",
    "\n",
    "    # Perform back substitution \n",
    "    for i in range(min(m, n)-1, -1, -1):  # Iterate from min(m, n)-1 to 0 (inclusive)\n",
    "        sum_u_x = sum(U[i, j] * x[j] for j in range(i + 1, n))  # Sum of U[i, j] * x[j] for j > i\n",
    "        x[i] = (y[i] - sum_u_x) / U[i, i]\n",
    "        x = x.reshape(-1, 1)\n",
    "\n",
    "    return x\n"
   ]
  },
  {
   "cell_type": "code",
   "execution_count": 117,
   "id": "46503246",
   "metadata": {},
   "outputs": [
    {
     "name": "stdout",
     "output_type": "stream",
     "text": [
      "x= [[ 1.]\n",
      " [ 2.]\n",
      " [-1.]]\n"
     ]
    }
   ],
   "source": [
    "# To find x for the same example earlier \n",
    "x_ex=backsubst(U_ex, y_ex)\n",
    "\n",
    "print('x=',x_ex)"
   ]
  },
  {
   "cell_type": "markdown",
   "id": "8dfbdeea",
   "metadata": {},
   "source": [
    "### Q7\n",
    "\n",
    "$$\n",
    "\\begin{bmatrix}\n",
    "1 & 1 & 1 \\\\\n",
    "1 & 2 & 4 \\\\\n",
    "1 & 3 & 9 \\\\\n",
    "\\end{bmatrix}\n",
    "\\begin{bmatrix}\n",
    "c_1 \\\\\n",
    "c_2 \\\\\n",
    "c_3\n",
    "\\end{bmatrix}\n",
    "=\n",
    "\\begin{bmatrix}\n",
    "11 \\\\\n",
    "12.5 \\\\\n",
    "14 \\\\\n",
    "\\end{bmatrix}\n",
    "$$"
   ]
  },
  {
   "cell_type": "code",
   "execution_count": 131,
   "id": "ddb92573",
   "metadata": {},
   "outputs": [
    {
     "name": "stdout",
     "output_type": "stream",
     "text": [
      "A= [[1. 1. 1.]\n",
      " [1. 2. 4.]\n",
      " [1. 3. 9.]]\n",
      "b= [[11. ]\n",
      " [12.5]\n",
      " [14. ]]\n"
     ]
    }
   ],
   "source": [
    "A_7 = np.array([[1,1,1],[1,2,4],[1,3,9]]).astype(float)\n",
    "print('A=',A_7)\n",
    "\n",
    "b_7 = np.array([[11],[12.5],[14]]).astype(float)\n",
    "print('b=', b_7)"
   ]
  },
  {
   "cell_type": "code",
   "execution_count": 132,
   "id": "d6a83a86",
   "metadata": {},
   "outputs": [
    {
     "name": "stdout",
     "output_type": "stream",
     "text": [
      "L= [[1. 0. 0.]\n",
      " [1. 1. 0.]\n",
      " [1. 2. 1.]]\n",
      "U= [[1. 1. 1.]\n",
      " [0. 1. 3.]\n",
      " [0. 0. 2.]]\n"
     ]
    }
   ],
   "source": [
    "# First, decompose A using the LU decomposition code from Q4\n",
    "[L_7, U_7] = lufactors(A_7)\n",
    "\n",
    "print('L=',L_7)\n",
    "print('U=',U_7)"
   ]
  },
  {
   "cell_type": "code",
   "execution_count": 133,
   "id": "7e90ffd3",
   "metadata": {},
   "outputs": [
    {
     "name": "stdout",
     "output_type": "stream",
     "text": [
      "y= [[11. ]\n",
      " [ 1.5]\n",
      " [ 0. ]]\n"
     ]
    }
   ],
   "source": [
    "# Second, solve the system L y = b by forward substitution using the code from Q5\n",
    "y_7= forwardsubst(L_7,b_7)\n",
    "\n",
    "print('y=',y_7)"
   ]
  },
  {
   "cell_type": "code",
   "execution_count": 135,
   "id": "b20909c2",
   "metadata": {},
   "outputs": [
    {
     "name": "stdout",
     "output_type": "stream",
     "text": [
      "x= [[9.5]\n",
      " [1.5]\n",
      " [0. ]]\n"
     ]
    }
   ],
   "source": [
    "# Finally, solve the system U x = y by backward substitution using the code from Q6\n",
    "x_7=backsubst(U_7, y_7)\n",
    "\n",
    "print('x=',x_7)"
   ]
  },
  {
   "cell_type": "markdown",
   "id": "aef9fd9e",
   "metadata": {},
   "source": [
    "### \n",
    "Hence, \n",
    "\n",
    "$$\n",
    "x=\n",
    "\\begin{bmatrix}\n",
    "c_1 \\\\\n",
    "c_2 \\\\\n",
    "c_3\n",
    "\\end{bmatrix}\n",
    "=\n",
    "\\begin{bmatrix}\n",
    "9.5 \\\\\n",
    "1.5 \\\\\n",
    "0\\\\\n",
    "\\end{bmatrix}\n",
    "$$\n",
    "\n",
    "These are the values for the coefficients c1, c2 and c3 that makes p(t)=f(t) for the given t values. Thus, the quadratic polynomial that fits the given points is p(t)=9.5+1.5t"
   ]
  },
  {
   "cell_type": "markdown",
   "id": "953b2725",
   "metadata": {},
   "source": [
    "### Q8\n",
    "\n",
    "This is the linear system to solve in order to determine the messages were all the code vectors b were stacked in one matrix $B = \\begin{bmatrix} \\mathbf{b}_1 & \\mathbf{b}_2 & \\cdots & \\mathbf{b}_9 \\end{bmatrix}$ and all the corresponding vectors x (that will contain the encoded message) were stacked in the matrix $X = \\begin{bmatrix} \\mathbf{x}_1 & \\mathbf{x}_2 & \\cdots & \\mathbf{x}_9 \\end{bmatrix}$\n",
    "\n",
    "$$\n",
    "AX = B\n",
    "$$\n",
    "\n",
    "$$\n",
    "\\begin{bmatrix}\n",
    "2 & 3 & 8 \\\\\n",
    "0 & 1 & 4 \\\\\n",
    "1 & 0 & -3 \\\\\n",
    "\\end{bmatrix}\n",
    "\\begin{bmatrix}\n",
    "\\mathbf{x}_1 & \\mathbf{x}_2 & \\cdots & \\mathbf{x}_9\n",
    "\\end{bmatrix}\n",
    "=\n",
    "\\begin{bmatrix}\n",
    "162 & 51 & 125 & 85 & 66 & 233 & 241 & 187 & 257\\\\\n",
    "48 & 9 & 31 & 27 & 22 & 85 & 93 & 79 & 113\\\\\n",
    "0 & 11 & 15 & -3 & -1 & -30 & -42 & -40 & -68\\\\\n",
    "\\end{bmatrix}\n",
    "$$\n",
    "\n",
    "\n",
    "\n",
    "\n",
    "\n",
    "\n",
    "\n",
    "\n",
    "\n",
    "\n",
    "\n"
   ]
  },
  {
   "cell_type": "code",
   "execution_count": 143,
   "id": "317ae6d5",
   "metadata": {},
   "outputs": [
    {
     "name": "stdout",
     "output_type": "stream",
     "text": [
      "A= [[ 2.  3.  8.]\n",
      " [ 0.  1.  4.]\n",
      " [ 1.  0. -3.]]\n",
      "B= [[162.  51. 125.  85.  66. 233. 241. 187. 257.]\n",
      " [ 48.   9.  31.  27.  22.  85.  93.  79. 113.]\n",
      " [  0.  11.  15.  -3.  -1. -30. -42. -40. -68.]]\n"
     ]
    }
   ],
   "source": [
    "A_8 = np.array([[2,3,8],[0,1,4],[1,0,-3]]).astype(float)\n",
    "print('A=',A_8)\n",
    "\n",
    "B_8 = np.array([[162,51,125,85,66,233,241,187,257],[48,9,31,27,22,85,93,79,113],[0,11,15,-3,-1,-30,-42,-40,-68]]).astype(float)\n",
    "print('B=', b_8)"
   ]
  },
  {
   "cell_type": "code",
   "execution_count": 144,
   "id": "b29410e7",
   "metadata": {},
   "outputs": [
    {
     "name": "stdout",
     "output_type": "stream",
     "text": [
      "L= [[ 1.   0.   0. ]\n",
      " [ 0.   1.   0. ]\n",
      " [ 0.5 -1.5  1. ]]\n",
      "U= [[ 2.  3.  8.]\n",
      " [ 0.  1.  4.]\n",
      " [ 0.  0. -1.]]\n"
     ]
    }
   ],
   "source": [
    "# Decompose A=LU\n",
    "[L_8, U_8] = lufactors(A_8)\n",
    "\n",
    "print('L=',L_8)\n",
    "print('U=',U_8)"
   ]
  },
  {
   "cell_type": "code",
   "execution_count": 145,
   "id": "c69cf63d",
   "metadata": {},
   "outputs": [
    {
     "name": "stdout",
     "output_type": "stream",
     "text": [
      "Y= [[162.  51. 125.  85.  66. 233. 241. 187. 257.]\n",
      " [ 48.   9.  31.  27.  22.  85.  93.  79. 113.]\n",
      " [ -9.  -1.  -1.  -5.  -1. -19. -23. -15. -27.]]\n"
     ]
    }
   ],
   "source": [
    "# Solve L Y = B\n",
    "Y_8= forwardsubst(L_8,B_8)\n",
    "\n",
    "print('Y=',Y_8)"
   ]
  },
  {
   "cell_type": "code",
   "execution_count": 153,
   "id": "d3985f26",
   "metadata": {},
   "outputs": [
    {
     "name": "stdout",
     "output_type": "stream",
     "text": [
      "X= [[-245.5]\n",
      " [ 551. ]\n",
      " [-125. ]]\n"
     ]
    }
   ],
   "source": [
    "# Solve U X = Y\n",
    "X_8=backsubst(U_8, Y_8.flatten())\n",
    "\n",
    "print('X=',X_8)"
   ]
  },
  {
   "cell_type": "code",
   "execution_count": 189,
   "id": "4bd4e82b",
   "metadata": {},
   "outputs": [
    {
     "name": "stdout",
     "output_type": "stream",
     "text": [
      "This is the encoded message matrix X, were each column is a vecotr x_i that correspond to vector b_i\n",
      "X= [[27. 14. 18. 12.  2. 27. 27.  5. 13.]\n",
      " [12.  5. 27.  7. 18.  9.  1. 19.  5.]\n",
      " [ 9.  1.  1.  5.  1. 19. 23. 15. 27.]]\n"
     ]
    }
   ],
   "source": [
    "X_vecs = []\n",
    "\n",
    "# Loop through each column of Y and solve the system\n",
    "for j in range(Y_8.shape[1]):  # Iterate over the number of columns in Y\n",
    "    y_column = Y_8[:, j]  # Extract the j-th column of Y\n",
    "    X_vecs.append(backsubst(U_8, y_column))\n",
    "\n",
    "# # Print all solutions\n",
    "# for i, X in enumerate(X_vecs):\n",
    "#     print(f'Solution for column {i + 1} of Y: \\n{X}\\n')\n",
    "    \n",
    "X_8=np.hstack(X_vecs) \n",
    "print('This is the encoded message matrix X, were each column is a vecotr x_i that correspond to vector b_i')\n",
    "print('X=',X_8)# Matrix X where each column is a vecotr x_i that correspond to vector b_i"
   ]
  },
  {
   "cell_type": "code",
   "execution_count": 184,
   "id": "b2ce88df",
   "metadata": {},
   "outputs": [],
   "source": [
    "# Build a function for decoding that iterates through columns of the matrix X \n",
    "def decode_messages(X):\n",
    "    # Define the letter mapping: 1-26 for 'A'-'Z' and 27 for space\n",
    "    alphabet = {i: chr(64 + i) for i in range(1, 27)}  # a dictionary for A-Z\n",
    "    alphabet[27] = ' '  # 27-space\n",
    "    \n",
    "    # Iterate through each column of matrix X (which represents each message vector)\n",
    "    message = '' # An empty string to store the decoded message\n",
    "    for col in range(X.shape[1]):\n",
    "        # Convert each column to a row and map each number to its corresponding letter\n",
    "        message_vector = ''.join([alphabet.get(int(round(X[row, col])), '?') for row in range(X.shape[0])])\n",
    "        message += message_vector + ' '  # Add a space between each decoded message part\n",
    "\n",
    "    return message\n"
   ]
  },
  {
   "cell_type": "code",
   "execution_count": 190,
   "id": "cd9d5852",
   "metadata": {},
   "outputs": [
    {
     "name": "stdout",
     "output_type": "stream",
     "text": [
      "The message is:  LI NEA R A LGE BRA  IS  AW ESO ME  \n"
     ]
    }
   ],
   "source": [
    "X8_message = decode_messages(X_8)\n",
    "\n",
    "print('The message is:',X8_message)# view the message 'LINEAR ALGEBRA IS AWESOME'"
   ]
  },
  {
   "cell_type": "markdown",
   "id": "650e0a85",
   "metadata": {},
   "source": [
    "### If we receive each vector individually\n",
    "\n",
    "LU decomposition done using the code from Q4\n",
    "\n",
    "For the rest of the steps one can combine all the functions in one function that does it all and keeps on using it for each vector individually "
   ]
  },
  {
   "cell_type": "code",
   "execution_count": 169,
   "id": "0eb2c1a0",
   "metadata": {},
   "outputs": [],
   "source": [
    "# A big function to perform forward and backward substitutio and decode the message taking one vector b at a time\n",
    "\n",
    "def get_message(L, U, b):\n",
    "    \n",
    "    # 1. solve L y = b using forward substitution\n",
    "    y = forwardsubst(L,b)\n",
    "\n",
    "    # 2. solve U x = y using back substitution\n",
    "    x = backsubst(U, y)\n",
    "    \n",
    "    #3. decode the vector and map it to letters\n",
    "    \n",
    "    alphabet = {i: chr(64 + i) for i in range(1, 27)}  \n",
    "    alphabet[27] = ' '  \n",
    "\n",
    "    \n",
    "    decoded_message = ''.join([alphabet.get(int(round(x[i, 0])), '?') for i in range(x.shape[0])])\n",
    "\n",
    "   \n",
    "    return decoded_message"
   ]
  },
  {
   "cell_type": "code",
   "execution_count": 174,
   "id": "1a7d6354",
   "metadata": {},
   "outputs": [],
   "source": [
    "# the code vectors\n",
    "b_1 = np.array([[162],[48],[0]])\n",
    "b_2 = np.array([[51],[9],[11]])\n",
    "b_3 = np.array([[125],[31],[15]])\n",
    "b_4 = np.array([[85],[27],[-3]])\n",
    "b_5 = np.array([[66],[22],[-1]])\n",
    "b_6 = np.array([[233],[85],[-30]])\n",
    "b_7 = np.array([[241],[93],[-42]])\n",
    "b_8 = np.array([[187],[79],[-40]])\n",
    "b_9 = np.array([[257],[113],[-68]])\n"
   ]
  },
  {
   "cell_type": "code",
   "execution_count": 180,
   "id": "08dc859f",
   "metadata": {},
   "outputs": [],
   "source": [
    "# the corresponding decoded vecotrs or the factors \n",
    "x_1=get_message(L_8,U_8,b_1)\n",
    "x_2=get_message(L_8,U_8,b_2)\n",
    "x_3=get_message(L_8,U_8,b_3)\n",
    "x_4=get_message(L_8,U_8,b_4)\n",
    "x_5=get_message(L_8,U_8,b_5)\n",
    "x_6=get_message(L_8,U_8,b_6)\n",
    "x_7=get_message(L_8,U_8,b_7)\n",
    "x_8=get_message(L_8,U_8,b_8)\n",
    "x_9=get_message(L_8,U_8,b_9)"
   ]
  },
  {
   "cell_type": "code",
   "execution_count": 181,
   "id": "4f898929",
   "metadata": {},
   "outputs": [
    {
     "name": "stdout",
     "output_type": "stream",
     "text": [
      " LI NEA R A LGE BRA  IS  AW ESO ME \n"
     ]
    }
   ],
   "source": [
    "print(x_1,x_2,x_3,x_4,x_5,x_6,x_7,x_8,x_9) # see the message "
   ]
  },
  {
   "cell_type": "markdown",
   "id": "209d9102",
   "metadata": {},
   "source": [
    "### Assume that both the original message and the encoded one are available, but not the 3x3 matrix A. Can one determine A? If so, describe how this can be done.\n",
    "\n",
    "ans: yes A can be determined. If the decoded message matrix X is square and invertible(non-singular) one can invert for A:\n",
    "\n",
    "$$\n",
    "AX = B\n",
    "$$\n",
    "\n",
    "$$\n",
    "A = B X^{-1} \n",
    "$$\n",
    "\n",
    "If X is not square then one can use pseudoinverse to invert for A:\n",
    "$$\n",
    "A = BX^{+} \n",
    "$$"
   ]
  },
  {
   "cell_type": "markdown",
   "id": "39b98efe",
   "metadata": {},
   "source": [
    "### Assume that A is singular. Can one determine the message ?\n",
    "\n",
    "ans: If the matrix is singular(not invertble) the system $AX = B$ will either have no solution whcih means one can't determine the message, or the system will have infinite number of solutions(no unique solution) which can be found by pseudoinverse, but doesn't guarantee that we can determine the message uniqely(the original message) without additional information."
   ]
  },
  {
   "cell_type": "code",
   "execution_count": null,
   "id": "26e7b572",
   "metadata": {},
   "outputs": [],
   "source": []
  }
 ],
 "metadata": {
  "kernelspec": {
   "display_name": "Python 3 (ipykernel)",
   "language": "python",
   "name": "python3"
  },
  "language_info": {
   "codemirror_mode": {
    "name": "ipython",
    "version": 3
   },
   "file_extension": ".py",
   "mimetype": "text/x-python",
   "name": "python",
   "nbconvert_exporter": "python",
   "pygments_lexer": "ipython3",
   "version": "3.9.13"
  }
 },
 "nbformat": 4,
 "nbformat_minor": 5
}
