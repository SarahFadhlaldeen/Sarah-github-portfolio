{
 "cells": [
  {
   "cell_type": "markdown",
   "id": "72ad085b",
   "metadata": {},
   "source": [
    "![Q6](HW1_Q6.jpg)"
   ]
  },
  {
   "cell_type": "code",
   "execution_count": 1,
   "id": "1b1b33bb",
   "metadata": {},
   "outputs": [],
   "source": [
    "import numpy as np "
   ]
  },
  {
   "cell_type": "code",
   "execution_count": 2,
   "id": "d675c2cb",
   "metadata": {},
   "outputs": [
    {
     "name": "stdout",
     "output_type": "stream",
     "text": [
      "A= [[ 1  2]\n",
      " [ 3  4]\n",
      " [ 1  1]\n",
      " [ 1 -1]]\n",
      "b= [[1]\n",
      " [2]\n",
      " [3]\n",
      " [4]]\n"
     ]
    }
   ],
   "source": [
    "A = np.array([[1, 2], [3, 4], [1, 1],[1, -1]])\n",
    "\n",
    "print('A=',A)\n",
    "\n",
    "b= np.array([[1],[2], [3], [4]])\n",
    "\n",
    "print('b=',b)"
   ]
  },
  {
   "cell_type": "code",
   "execution_count": 6,
   "id": "62dda539",
   "metadata": {},
   "outputs": [
    {
     "name": "stdout",
     "output_type": "stream",
     "text": [
      "U= [[-0.39165244  0.22910853 -0.11260607  0.88398955]\n",
      " [-0.8853506  -0.10135071 -0.22410732 -0.3945355 ]\n",
      " [-0.24684908 -0.16522962  0.95328474  0.05488993]\n",
      " [ 0.04275765 -0.95390591 -0.1683567   0.24472702]]\n",
      "Vt= [[-0.57604844 -0.81741556]\n",
      " [-0.81741556  0.57604844]]\n",
      "S= [5.64500387 1.46079816]\n"
     ]
    }
   ],
   "source": [
    "U, S, VT = np.linalg.svd(A, full_matrices=True) #get only u and v vectors that corresponds to non-zero singular values\n",
    "\n",
    "print('U=',U)\n",
    "print('Vt=',VT)\n",
    "print('S=',S)"
   ]
  },
  {
   "cell_type": "code",
   "execution_count": 8,
   "id": "b508def3",
   "metadata": {},
   "outputs": [
    {
     "name": "stdout",
     "output_type": "stream",
     "text": [
      "U_C(A)= [[-0.39165244  0.22910853]\n",
      " [-0.8853506  -0.10135071]\n",
      " [-0.24684908 -0.16522962]\n",
      " [ 0.04275765 -0.95390591]]\n",
      "U_N(A^T)= [[-0.11260607  0.88398955]\n",
      " [-0.22410732 -0.3945355 ]\n",
      " [ 0.95328474  0.05488993]\n",
      " [-0.1683567   0.24472702]]\n"
     ]
    }
   ],
   "source": [
    "U_col = U[:, :2]\n",
    "U_null = U[:, 2:]\n",
    "\n",
    "\n",
    "print('U_C(A)=',U_col)\n",
    "print('U_N(A^T)=',U_null)"
   ]
  },
  {
   "cell_type": "code",
   "execution_count": 14,
   "id": "596988c3",
   "metadata": {},
   "outputs": [
    {
     "name": "stdout",
     "output_type": "stream",
     "text": [
      "b_hat = [[0.08823529]\n",
      " [2.85294118]\n",
      " [1.38235294]\n",
      " [3.97058824]]\n"
     ]
    }
   ],
   "source": [
    "# projecting b onto the column space of A using U with only left singular vectors that corresponds to non-zero singular values (they are the basis for the column space of A)    \n",
    "b_hat = U_col @ U_col.T @ b\n",
    "\n",
    "print('b_hat =',b_hat)"
   ]
  },
  {
   "cell_type": "code",
   "execution_count": 15,
   "id": "1269fcd8",
   "metadata": {},
   "outputs": [
    {
     "name": "stdout",
     "output_type": "stream",
     "text": [
      "z= [[ 0.91176471]\n",
      " [-0.85294118]\n",
      " [ 1.61764706]\n",
      " [ 0.02941176]]\n"
     ]
    }
   ],
   "source": [
    "z=b-b_hat\n",
    "\n",
    "print('z=',z)"
   ]
  },
  {
   "cell_type": "markdown",
   "id": "c6cae6d2",
   "metadata": {},
   "source": [
    "### The checking \n",
    "\n",
    "For $\\hat{b}$ to be in the column space of A, it is supposed to be able to be expressed as a linear combination of the columns of U that correspond to the non-zero singular values (since they are the basis for the C(A)). Also, it should be orthogonal to all vectors in the left null space since C(A) and N($A^T$) are orthogonal complements, hence, vectors lie within them need to verify that."
   ]
  },
  {
   "cell_type": "code",
   "execution_count": 10,
   "id": "2af4fe96",
   "metadata": {},
   "outputs": [
    {
     "name": "stdout",
     "output_type": "stream",
     "text": [
      "[[-3.15837089e-16]\n",
      " [-1.41320692e-15]]\n"
     ]
    }
   ],
   "source": [
    "# check orthogonality \n",
    "\n",
    "b_hat_ortho = U_null.T @ b_hat\n",
    "\n",
    "\n",
    "print(b_hat_ortho) \n",
    "\n",
    "#on the order of 10^-16 and 10^-15 are practically zero, hence, b_hat is orthogonal to the N(A^T) basis."
   ]
  },
  {
   "cell_type": "code",
   "execution_count": 20,
   "id": "e3bd35f0",
   "metadata": {},
   "outputs": [
    {
     "name": "stdout",
     "output_type": "stream",
     "text": [
      "x= [[-2.73187025]\n",
      " [-4.28490541]]\n",
      "b_hat from the linear combination= [[0.08823529]\n",
      " [2.85294118]\n",
      " [1.38235294]\n",
      " [3.97058824]]\n"
     ]
    }
   ],
   "source": [
    "# check linear combination\n",
    "\n",
    "x = np.linalg.lstsq(U_col, b_hat, rcond=None)[0]\n",
    "\n",
    "\n",
    "linear_comb_b_hat = U_col @ x\n",
    "\n",
    "\n",
    "print('x=',x)\n",
    "print('b_hat from the linear combination=',linear_comb_b_hat)\n",
    "\n",
    "#which indeed shows that b_hat can be expressed as a linear combination of the basis of C(A)."
   ]
  },
  {
   "cell_type": "code",
   "execution_count": null,
   "id": "b4b631f4",
   "metadata": {},
   "outputs": [],
   "source": []
  }
 ],
 "metadata": {
  "kernelspec": {
   "display_name": "Python 3 (ipykernel)",
   "language": "python",
   "name": "python3"
  },
  "language_info": {
   "codemirror_mode": {
    "name": "ipython",
    "version": 3
   },
   "file_extension": ".py",
   "mimetype": "text/x-python",
   "name": "python",
   "nbconvert_exporter": "python",
   "pygments_lexer": "ipython3",
   "version": "3.9.13"
  }
 },
 "nbformat": 4,
 "nbformat_minor": 5
}
