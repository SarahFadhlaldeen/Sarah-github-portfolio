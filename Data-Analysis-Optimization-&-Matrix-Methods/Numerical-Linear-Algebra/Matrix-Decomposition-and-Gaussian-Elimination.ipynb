{
 "cells": [
  {
   "cell_type": "code",
   "execution_count": 1,
   "id": "97e29e7d",
   "metadata": {},
   "outputs": [],
   "source": [
    "import numpy as np \n"
   ]
  },
  {
   "cell_type": "code",
   "execution_count": 5,
   "id": "10d24e25",
   "metadata": {},
   "outputs": [
    {
     "name": "stdout",
     "output_type": "stream",
     "text": [
      "[[  9   7  10   8]\n",
      " [-13   1   5  -6]]\n"
     ]
    }
   ],
   "source": [
    "A = np.array ([[9, 7, 10, 8], [-13, 1, 5, -6]])\n",
    "\n",
    "print(A)"
   ]
  },
  {
   "cell_type": "code",
   "execution_count": 7,
   "id": "7e3e5111",
   "metadata": {},
   "outputs": [],
   "source": [
    "AT= A.T"
   ]
  },
  {
   "cell_type": "code",
   "execution_count": 9,
   "id": "c124a2bf",
   "metadata": {},
   "outputs": [
    {
     "name": "stdout",
     "output_type": "stream",
     "text": [
      "[[250  50  25 150]\n",
      " [ 50  50  75  50]\n",
      " [ 25  75 125  50]\n",
      " [150  50  50 100]]\n"
     ]
    }
   ],
   "source": [
    "ATA = np.dot(AT, A)\n",
    "\n",
    "print(ATA)"
   ]
  },
  {
   "cell_type": "code",
   "execution_count": 29,
   "id": "af7ec6df",
   "metadata": {},
   "outputs": [
    {
     "name": "stdout",
     "output_type": "stream",
     "text": [
      "[[ 294 -108]\n",
      " [-108  231]]\n"
     ]
    }
   ],
   "source": [
    "AAT = np.dot(A, AT)\n",
    "\n",
    "print(AAT)"
   ]
  },
  {
   "cell_type": "code",
   "execution_count": 11,
   "id": "ecd2f265",
   "metadata": {},
   "outputs": [
    {
     "name": "stdout",
     "output_type": "stream",
     "text": [
      "Eigenvalues: [ 3.75000000e+02  1.50000000e+02  5.05193544e-14 -4.55922620e-15]\n",
      "Eigenvectors:\n",
      " [[-7.74596669e-01  4.08248290e-01 -4.48768918e-01 -4.49276327e-02]\n",
      " [-2.58198890e-01 -4.08248290e-01  3.87054419e-01 -8.62669660e-01]\n",
      " [-2.58198890e-01 -8.16496581e-01 -4.17911669e-01  4.08871014e-01]\n",
      " [-5.16397779e-01  3.52274196e-16  6.88582001e-01  2.94290772e-01]]\n"
     ]
    }
   ],
   "source": [
    "eigenvalues, eigenvectors = np.linalg.eig(ATA)\n",
    "\n",
    "\n",
    "print(\"Eigenvalues:\", eigenvalues)\n",
    "print(\"Eigenvectors:\\n\", eigenvectors)"
   ]
  },
  {
   "cell_type": "code",
   "execution_count": 30,
   "id": "b546ac6d",
   "metadata": {},
   "outputs": [
    {
     "name": "stdout",
     "output_type": "stream",
     "text": [
      "[[-3 11]\n",
      " [10 -2]\n",
      " [ 1  5]\n",
      " [-4  6]]\n"
     ]
    }
   ],
   "source": [
    "X = np.array ([[-3, 11], [10, -2], [1, 5], [-4, 6]])\n",
    "\n",
    "print(X)"
   ]
  },
  {
   "cell_type": "code",
   "execution_count": 31,
   "id": "3fe91d15",
   "metadata": {},
   "outputs": [],
   "source": [
    "XT= X.T"
   ]
  },
  {
   "cell_type": "code",
   "execution_count": 32,
   "id": "cf5cacb3",
   "metadata": {},
   "outputs": [
    {
     "name": "stdout",
     "output_type": "stream",
     "text": [
      "[[130 -52  52  78]\n",
      " [-52 104   0 -52]\n",
      " [ 52   0  26  26]\n",
      " [ 78 -52  26  52]]\n"
     ]
    }
   ],
   "source": [
    "XXT = np.dot(X, XT)\n",
    "\n",
    "print(XXT)"
   ]
  },
  {
   "cell_type": "code",
   "execution_count": 33,
   "id": "d31bb1b9",
   "metadata": {},
   "outputs": [
    {
     "name": "stdout",
     "output_type": "stream",
     "text": [
      "Eigenvalues: [ 2.34000000e+02 -5.25271166e-15  7.80000000e+01  5.99968687e-15]\n",
      "Eigenvectors:\n",
      " [[-7.07106781e-01  5.77350269e-01 -4.08248290e-01  2.91229012e-01]\n",
      " [ 4.71404521e-01 -1.44567339e-16 -8.16496581e-01  2.87818806e-01]\n",
      " [-2.35702260e-01 -5.77350269e-01 -4.08248290e-01 -8.66866625e-01]\n",
      " [-4.71404521e-01 -5.77350269e-01 -7.75002417e-17  2.84408600e-01]]\n"
     ]
    }
   ],
   "source": [
    "eigenvalues, eigenvectors = np.linalg.eig(XXT)\n",
    "\n",
    "\n",
    "print(\"Eigenvalues:\", eigenvalues)\n",
    "print(\"Eigenvectors:\\n\", eigenvectors)"
   ]
  },
  {
   "cell_type": "code",
   "execution_count": 37,
   "id": "81037bea",
   "metadata": {},
   "outputs": [
    {
     "name": "stdout",
     "output_type": "stream",
     "text": [
      "[[ 3  7  1  5]\n",
      " [ 3  1  7  5]\n",
      " [ 6  2  2 -2]]\n"
     ]
    }
   ],
   "source": [
    "e = np.array([[3, 7, 1, 5], [3, 1, 7, 5], [6, 2, 2, -2]])\n",
    "\n",
    "print(e)"
   ]
  },
  {
   "cell_type": "code",
   "execution_count": 35,
   "id": "9fb656f7",
   "metadata": {},
   "outputs": [],
   "source": [
    "eT = e.T"
   ]
  },
  {
   "cell_type": "code",
   "execution_count": 39,
   "id": "26ee97d4",
   "metadata": {},
   "outputs": [
    {
     "name": "stdout",
     "output_type": "stream",
     "text": [
      "[[54 36 36 18]\n",
      " [36 54 18 36]\n",
      " [36 18 54 36]\n",
      " [18 36 36 54]]\n"
     ]
    }
   ],
   "source": [
    "eTe = np.dot(eT, e)\n",
    "\n",
    "print(eTe)"
   ]
  },
  {
   "cell_type": "code",
   "execution_count": 40,
   "id": "10e10ed0",
   "metadata": {},
   "outputs": [
    {
     "name": "stdout",
     "output_type": "stream",
     "text": [
      "Eigenvalues: [1.44000000e+02 2.10398438e-14 3.60000000e+01 3.60000000e+01]\n",
      "Eigenvectors:\n",
      " [[ 5.00000000e-01  5.00000000e-01  7.07106781e-01 -2.79624878e-01]\n",
      " [ 5.00000000e-01 -5.00000000e-01 -4.95279600e-16 -6.49468958e-01]\n",
      " [ 5.00000000e-01 -5.00000000e-01  3.59056936e-16  6.49468958e-01]\n",
      " [ 5.00000000e-01  5.00000000e-01 -7.07106781e-01  2.79624878e-01]]\n"
     ]
    }
   ],
   "source": [
    "eigenvalues, eigenvectors = np.linalg.eig(eTe)\n",
    "\n",
    "\n",
    "print(\"Eigenvalues:\", eigenvalues)\n",
    "print(\"Eigenvectors:\\n\", eigenvectors)"
   ]
  },
  {
   "cell_type": "code",
   "execution_count": 16,
   "id": "effe12da",
   "metadata": {},
   "outputs": [],
   "source": [
    "def gaussian_elimination(A):\n",
    "    n = len(A)\n",
    "    \n",
    "    for i in range(n):\n",
    "        # Find the pivot\n",
    "        max_row = i + np.argmax(abs(A[i:, i]))\n",
    "        # Swap the current row with the pivot row\n",
    "        A[[i, max_row]] = A[[max_row, i]]\n",
    "        \n",
    "        # Make the diagonal element 1 and eliminate the column below it\n",
    "        for j in range(i + 1, n):\n",
    "            factor = A[j, i] / A[i, i]\n",
    "            A[j, i:] -= factor * A[i, i:]\n",
    "    \n",
    "    return A\n",
    "\n"
   ]
  },
  {
   "cell_type": "code",
   "execution_count": 20,
   "id": "0d9c394f",
   "metadata": {},
   "outputs": [
    {
     "name": "stdout",
     "output_type": "stream",
     "text": [
      "[[-125.   50.   25.  150.    0.]\n",
      " [  50. -325.   75.   50.    0.]\n",
      " [  25.   75. -250.   50.    0.]\n",
      " [ 150.   50.   50. -275.    0.]]\n"
     ]
    }
   ],
   "source": [
    "ATA_375 = np.array ([[-125, 50, 25, 150, 0], [50, -325, 75, 50, 0], [25, 75, -250, 50, 0], [150, 50, 50, -275,0]], dtype=float)\n",
    "\n",
    "print(ATA_375)"
   ]
  },
  {
   "cell_type": "code",
   "execution_count": 24,
   "id": "386f7498",
   "metadata": {},
   "outputs": [
    {
     "name": "stdout",
     "output_type": "stream",
     "text": [
      "Row Echelon Form:\n",
      "[[ 1.50000000e+02  5.00000000e+01  5.00000000e+01 -2.75000000e+02\n",
      "   0.00000000e+00]\n",
      " [ 0.00000000e+00 -3.41666667e+02  5.83333333e+01  1.41666667e+02\n",
      "   0.00000000e+00]\n",
      " [ 0.00000000e+00  0.00000000e+00 -2.46951220e+02  1.23475610e+02\n",
      "   0.00000000e+00]\n",
      " [ 0.00000000e+00  0.00000000e+00  0.00000000e+00 -1.42108547e-14\n",
      "   0.00000000e+00]]\n"
     ]
    }
   ],
   "source": [
    "k = gaussian_elimination(ATA_375.copy())\n",
    "\n",
    "print(\"Row Echelon Form:\")\n",
    "print(k)"
   ]
  },
  {
   "cell_type": "code",
   "execution_count": 25,
   "id": "42b6d750",
   "metadata": {},
   "outputs": [],
   "source": [
    "def back_substitution(U):\n",
    "    n = len(U)\n",
    "    x = np.zeros(n)\n",
    "    \n",
    "    for i in range(n - 1, -1, -1):\n",
    "        x[i] = (U[i, -1] - np.sum(U[i, i + 1:n] * x[i + 1:n])) / U[i, i]\n",
    "    \n",
    "    return x"
   ]
  },
  {
   "cell_type": "code",
   "execution_count": 28,
   "id": "1c6d986a",
   "metadata": {},
   "outputs": [
    {
     "name": "stdout",
     "output_type": "stream",
     "text": [
      "Solution:\n",
      "[ 0. -0. -0. -0.]\n"
     ]
    }
   ],
   "source": [
    "solution = back_substitution(k)\n",
    "\n",
    "print(\"Solution:\")\n",
    "print(solution)"
   ]
  },
  {
   "cell_type": "code",
   "execution_count": null,
   "id": "b8c6d9be",
   "metadata": {},
   "outputs": [],
   "source": []
  }
 ],
 "metadata": {
  "kernelspec": {
   "display_name": "Python 3 (ipykernel)",
   "language": "python",
   "name": "python3"
  },
  "language_info": {
   "codemirror_mode": {
    "name": "ipython",
    "version": 3
   },
   "file_extension": ".py",
   "mimetype": "text/x-python",
   "name": "python",
   "nbconvert_exporter": "python",
   "pygments_lexer": "ipython3",
   "version": "3.9.13"
  }
 },
 "nbformat": 4,
 "nbformat_minor": 5
}
